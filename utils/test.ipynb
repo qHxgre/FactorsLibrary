{
 "cells": [
  {
   "cell_type": "code",
   "execution_count": 1,
   "metadata": {},
   "outputs": [],
   "source": [
    "import sys\n",
    "import os\n",
    "new_path = os.path.abspath('/home/aiuser/work/FACTORS/utils')\n",
    "if new_path not in sys.path:\n",
    "    sys.path.insert(0, new_path)"
   ]
  },
  {
   "cell_type": "code",
   "execution_count": 2,
   "metadata": {},
   "outputs": [
    {
     "name": "stdout",
     "output_type": "stream",
     "text": [
      "=====>>>>> Start factor analyze\n",
      "download stock price data, time spent: 0:00:01.348215\n",
      "download index price data, time spent: 0:00:00.051327\n",
      "download index component, time spent: 0:00:00.593779\n",
      "download basic info data to calculate days after list, time spent: 0:00:00.052837\n",
      "download st, time spent: 0:00:00.882176\n",
      "=====>>>>> STEP 1: Download Data, time spent: 0:00:08.238500\n",
      "=====>>>>> STEP 2: Merge Data, time spent: 0:00:03.038779\n",
      "filter stock pool, time spent: 0:00:01.027328\n",
      "exclude stocks with BJ, time spent: 0:00:00.124374\n",
      "exclude new list stocks, time spent: 0:00:00.105180\n",
      "exclude risky stocks, time spent: 0:00:01.509635\n",
      "exclude suspended stocks, time spent: 0:00:00.019086\n",
      "winsorize, time spent: 0:00:00.867969\n",
      "standardize, time spent: 0:00:00.240996\n",
      "skip neutralize\n",
      "=====>>>>> STEP 3: Preprocess Data, time spent: 0:00:04.354981\n",
      "文本已成功插入。\n",
      "=====>>>>> STEP 4: Calculate group return, time spent: 0:00:06.451019\n"
     ]
    }
   ],
   "source": [
    "from SFA import SFA\n",
    "\n",
    "import dai\n",
    "\n",
    "df = dai.query(\"\"\"\n",
    "    SELECT\n",
    "        date, instrument, active_buy_volume_large,\n",
    "    FROM cn_stock_moneyflow\n",
    "    WHERE date>'2022-01-01'\n",
    ";\"\"\").df()\n",
    "\n",
    "st = dai.query(\"select * from hxie_st_daily\", full_db_scan=True).df()\n",
    "\n",
    "params = {\n",
    "    'group_num': 5,\n",
    "    'factor_field': 'active_buy_volume_large',\n",
    "    'stock_pool': '000300.SH',\n",
    "    'direction': 1,\n",
    "    'benchmark': '000300.SH',\n",
    "    'preprocess': {\n",
    "        'filter_pool': True,\n",
    "        'filter_bj': True,\n",
    "        'filter_new': True,\n",
    "        'filter_st': True,\n",
    "        'filter_suspend': True,\n",
    "        'winsorize': 'mad',\n",
    "        'standardize': 'zscore',\n",
    "        'neutralize': None,\n",
    "    }\n",
    "}\n",
    "\n",
    "sfa = SFA(params, df.dropna())\n",
    "sfa.run()"
   ]
  }
 ],
 "metadata": {
  "kernelspec": {
   "display_name": "Python 3",
   "language": "python",
   "name": "python3"
  },
  "language_info": {
   "codemirror_mode": {
    "name": "ipython",
    "version": 3
   },
   "file_extension": ".py",
   "mimetype": "text/x-python",
   "name": "python",
   "nbconvert_exporter": "python",
   "pygments_lexer": "ipython3",
   "version": "3.11.8"
  },
  "orig_nbformat": 4
 },
 "nbformat": 4,
 "nbformat_minor": 2
}
